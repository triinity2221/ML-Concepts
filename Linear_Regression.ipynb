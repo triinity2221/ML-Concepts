{
 "cells": [
  {
   "cell_type": "markdown",
   "metadata": {},
   "source": [
    "<h3>Regression is the process of predicting a continuous values.</h3>\n",
    "<p>\n",
    "<li> Simple Regression: Uses only one dependent variable </li> \n",
    "<li> Multiple Regression: Uses multiple dependent variable </li> </p>\n",
    "\n",
    "<h4>Various regression algorithms:</h4>\n",
    "<ol> \n",
    "<li>Ordinal Regression</li>\n",
    "<li>Poisson Regression</li>\n",
    "<li>Fast forest quantile regression</li>\n",
    "<li>Linear, Polynomial, Lasso, Stepwise, Ridge regression</li>\n",
    "<li>Bayesian Linear regression</li>\n",
    "<li>Neural network regression</li>\n",
    "<li>Decission forest regression</li>\n",
    "<li>Boosted decission tree regression</li>\n",
    "<li>KNN (K-nearest neighbors)</li>\n",
    "</ol>"
   ]
  },
  {
   "cell_type": "markdown",
   "metadata": {},
   "source": []
  },
  {
   "cell_type": "markdown",
   "metadata": {},
   "source": []
  }
 ],
 "metadata": {
  "kernelspec": {
   "display_name": "Python 3.10.4 64-bit (windows store)",
   "language": "python",
   "name": "python3"
  },
  "language_info": {
   "name": "python",
   "version": "3.10.5"
  },
  "orig_nbformat": 4,
  "vscode": {
   "interpreter": {
    "hash": "85aec63f8376a5e7664cfb917bced4e0ef789778ec2ca5a341e03dcb090658bb"
   }
  }
 },
 "nbformat": 4,
 "nbformat_minor": 2
}
